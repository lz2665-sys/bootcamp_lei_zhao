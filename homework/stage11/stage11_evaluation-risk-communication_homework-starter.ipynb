{
 "cells": [
  {
   "cell_type": "markdown",
   "id": "5284ed1f",
   "metadata": {},
   "source": [
    "# Stage 11 Homework — Evaluation & Risk Communication\n",
    "In the lecture, we learned **parametric vs bootstrap CIs**, **scenario sensitivity**, and **subgroup checks**.\n",
    "Now, you will adapt those methods to your dataset and produce assumption-aware results."
   ]
  },
  {
   "cell_type": "code",
   "execution_count": 5,
   "id": "1a562c1b",
   "metadata": {},
   "outputs": [],
   "source": [
    "# Setup\n",
    "import numpy as np\n",
    "import pandas as pd\n",
    "import matplotlib.pyplot as plt\n",
    "from pathlib import Path\n",
    "np.random.seed(111)\n",
    "plt.rcParams['figure.figsize'] = (8,5)"
   ]
  },
  {
   "cell_type": "markdown",
   "id": "72e31057",
   "metadata": {},
   "source": [
    "## Load Data (provided or synthetic fallback)"
   ]
  },
  {
   "cell_type": "code",
   "execution_count": 1,
   "id": "096b95ff",
   "metadata": {},
   "outputs": [
    {
     "data": {
      "text/html": [
       "<div>\n",
       "<style scoped>\n",
       "    .dataframe tbody tr th:only-of-type {\n",
       "        vertical-align: middle;\n",
       "    }\n",
       "\n",
       "    .dataframe tbody tr th {\n",
       "        vertical-align: top;\n",
       "    }\n",
       "\n",
       "    .dataframe thead th {\n",
       "        text-align: right;\n",
       "    }\n",
       "</style>\n",
       "<table border=\"1\" class=\"dataframe\">\n",
       "  <thead>\n",
       "    <tr style=\"text-align: right;\">\n",
       "      <th></th>\n",
       "      <th>date</th>\n",
       "      <th>segment</th>\n",
       "      <th>x_feature</th>\n",
       "      <th>y_target</th>\n",
       "    </tr>\n",
       "  </thead>\n",
       "  <tbody>\n",
       "    <tr>\n",
       "      <th>0</th>\n",
       "      <td>2022-06-01</td>\n",
       "      <td>A</td>\n",
       "      <td>NaN</td>\n",
       "      <td>-1.260107</td>\n",
       "    </tr>\n",
       "    <tr>\n",
       "      <th>1</th>\n",
       "      <td>2022-06-02</td>\n",
       "      <td>B</td>\n",
       "      <td>0.116531</td>\n",
       "      <td>0.647461</td>\n",
       "    </tr>\n",
       "    <tr>\n",
       "      <th>2</th>\n",
       "      <td>2022-06-03</td>\n",
       "      <td>A</td>\n",
       "      <td>-1.036753</td>\n",
       "      <td>-0.532736</td>\n",
       "    </tr>\n",
       "    <tr>\n",
       "      <th>3</th>\n",
       "      <td>2022-06-04</td>\n",
       "      <td>A</td>\n",
       "      <td>0.197565</td>\n",
       "      <td>0.004520</td>\n",
       "    </tr>\n",
       "    <tr>\n",
       "      <th>4</th>\n",
       "      <td>2022-06-05</td>\n",
       "      <td>C</td>\n",
       "      <td>0.222685</td>\n",
       "      <td>4.134185</td>\n",
       "    </tr>\n",
       "  </tbody>\n",
       "</table>\n",
       "</div>"
      ],
      "text/plain": [
       "        date segment  x_feature  y_target\n",
       "0 2022-06-01       A        NaN -1.260107\n",
       "1 2022-06-02       B   0.116531  0.647461\n",
       "2 2022-06-03       A  -1.036753 -0.532736\n",
       "3 2022-06-04       A   0.197565  0.004520\n",
       "4 2022-06-05       C   0.222685  4.134185"
      ]
     },
     "execution_count": 1,
     "metadata": {},
     "output_type": "execute_result"
    }
   ],
   "source": [
    "from pathlib import Path\n",
    "import pandas as pd\n",
    "import numpy as np\n",
    "\n",
    "data_dir = Path('data')\n",
    "data_dir.mkdir(exist_ok=True)\n",
    "\n",
    "csv_path = data_dir / 'data_stage11_eval_risk.csv'\n",
    "\n",
    "if csv_path.exists():\n",
    "    try:\n",
    "        df = pd.read_csv(csv_path, parse_dates=['date'])\n",
    "    except ValueError as e:\n",
    "        print(f\"Error reading CSV: {e}\\nRegenerating synthetic data...\")\n",
    "        regenerate = True\n",
    "    else:\n",
    "        regenerate = False\n",
    "else:\n",
    "    regenerate = True\n",
    "\n",
    "if regenerate:\n",
    "    n = 180\n",
    "    dates = pd.date_range('2022-06-01', periods=n, freq='D')\n",
    "    seg = np.random.choice(['A','B','C'], size=n, p=[0.5,0.3,0.2])\n",
    "    x = np.linspace(0, 9, n) + np.random.normal(0, 0.7, n)\n",
    "    y = 2.1 * x + 0.8 + np.random.standard_t(df=3, size=n) * 1.1\n",
    "    x[np.random.choice(np.arange(n), size=round(0.05*n), replace=False)] = np.nan\n",
    "    df = pd.DataFrame({'date': dates, 'segment': seg, 'x_feature': x, 'y_target': y})\n",
    "    df.to_csv(csv_path, index=False)\n",
    "\n",
    "df.head()\n"
   ]
  },
  {
   "cell_type": "markdown",
   "id": "4b80c4d0",
   "metadata": {},
   "source": [
    "## Helper Functions (complete or modify as needed)"
   ]
  },
  {
   "cell_type": "code",
   "execution_count": 2,
   "id": "07b9dfe5",
   "metadata": {
    "tags": [
     "grade_required"
    ]
   },
   "outputs": [],
   "source": [
    "def mean_impute(a: np.ndarray) -> np.ndarray:\n",
    "    m = np.nanmean(a)\n",
    "    out = a.copy()\n",
    "    out[np.isnan(out)] = m\n",
    "    return out\n",
    "\n",
    "def median_impute(a: np.ndarray) -> np.ndarray:\n",
    "    m = np.nanmedian(a)\n",
    "    out = a.copy()\n",
    "    out[np.isnan(out)] = m\n",
    "    return out\n",
    "\n",
    "class SimpleLinReg:\n",
    "    def fit(self, X, y):\n",
    "        X1 = np.c_[np.ones(len(X)), X.ravel()]\n",
    "        beta = np.linalg.pinv(X1) @ y\n",
    "        self.intercept_, self.coef_ = float(beta[0]), np.array([float(beta[1])])\n",
    "        return self\n",
    "    def predict(self, X):\n",
    "        return self.intercept_ + self.coef_[0] * X.ravel()\n",
    "\n",
    "def mae(y_true, y_pred):\n",
    "    return float(np.mean(np.abs(y_true - y_pred)))\n",
    "\n",
    "def bootstrap_metric(y_true, y_pred, fn, n_boot=500, seed=111, alpha=0.05):\n",
    "    rng = np.random.default_rng(seed)\n",
    "    idx = np.arange(len(y_true))\n",
    "    stats = []\n",
    "    for _ in range(n_boot):\n",
    "        b = rng.choice(idx, size=len(idx), replace=True)\n",
    "        stats.append(fn(y_true[b], y_pred[b]))\n",
    "    lo, hi = np.percentile(stats, [100*alpha/2, 100*(1-alpha/2)])\n",
    "    return {'mean': float(np.mean(stats)), 'lo': float(lo), 'hi': float(hi)}\n",
    "\n",
    "def fit_fn(X, y):\n",
    "    return SimpleLinReg().fit(X, y)\n",
    "def pred_fn(model, X):\n",
    "    return model.predict(X)"
   ]
  },
  {
   "cell_type": "markdown",
   "id": "816d9c3f",
   "metadata": {},
   "source": [
    "## Baseline Fit & Residuals (Required)"
   ]
  },
  {
   "cell_type": "code",
   "execution_count": 3,
   "id": "7c453438",
   "metadata": {
    "tags": [
     "grade_required"
    ]
   },
   "outputs": [
    {
     "data": {
      "text/plain": [
       "1.3427229984510356"
      ]
     },
     "execution_count": 3,
     "metadata": {},
     "output_type": "execute_result"
    }
   ],
   "source": [
    "X_raw = df['x_feature'].values\n",
    "y = df['y_target'].values\n",
    "X_base = mean_impute(X_raw)\n",
    "model = fit_fn(X_base.reshape(-1,1), y)\n",
    "y_hat = model.predict(X_base.reshape(-1,1))\n",
    "df['x_imputed'] = X_base\n",
    "base_mae = mae(y, y_hat)\n",
    "base_mae"
   ]
  },
  {
   "cell_type": "markdown",
   "id": "d83ca95b",
   "metadata": {},
   "source": [
    "## Parametric vs Bootstrap CI (Required)"
   ]
  },
  {
   "cell_type": "code",
   "execution_count": 6,
   "id": "07cc7291",
   "metadata": {
    "tags": [
     "grade_required"
    ]
   },
   "outputs": [
    {
     "data": {
      "image/png": "[encoded data removed]",
      "text/plain": [
       "<Figure size 800x500 with 1 Axes>"
      ]
     },
     "metadata": {},
     "output_type": "display_data"
    }
   ],
   "source": [
    "resid = y - y_hat\n",
    "sigma_hat = np.std(resid, ddof=1)\n",
    "n = len(y)\n",
    "se_mean = sigma_hat/np.sqrt(n)\n",
    "x_grid = np.linspace(np.nanmin(X_base), np.nanmax(X_base), 120).reshape(-1,1)\n",
    "pred_line = model.predict(x_grid)\n",
    "gauss_lo = pred_line - 1.96*se_mean\n",
    "gauss_hi = pred_line + 1.96*se_mean\n",
    "\n",
    "def bootstrap_predictions(X, y, x_grid, n_boot=500, seed=111):\n",
    "    rng = np.random.default_rng(seed)\n",
    "    preds = []\n",
    "    idx = np.arange(len(y))\n",
    "    for _ in range(n_boot):\n",
    "        b = rng.choice(idx, size=len(idx), replace=True)\n",
    "        m = fit_fn(X[b].reshape(-1,1), y[b])\n",
    "        preds.append(m.predict(x_grid))\n",
    "    P = np.vstack(preds)\n",
    "    return P.mean(axis=0), np.percentile(P, 2.5, axis=0), np.percentile(P, 97.5, axis=0)\n",
    "\n",
    "m_boot, lo_boot, hi_boot = bootstrap_predictions(X_base, y, x_grid, n_boot=600)\n",
    "\n",
    "plt.figure()\n",
    "plt.scatter(X_base, y, alpha=0.25)\n",
    "plt.plot(x_grid, pred_line, label='prediction')\n",
    "plt.fill_between(x_grid.ravel(), gauss_lo, gauss_hi, alpha=0.25, label='Gaussian CI')\n",
    "plt.fill_between(x_grid.ravel(), lo_boot, hi_boot, alpha=0.25, label='Bootstrap CI')\n",
    "plt.legend(); plt.title('Parametric vs Bootstrap CI'); plt.show()"
   ]
  },
  {
   "cell_type": "markdown",
   "id": "f9fd4cd3",
   "metadata": {},
   "source": [
    "## Scenario Sensitivity (Required): Choose ≥2 Scenarios\n",
    "Examples: mean vs median impute; drop; alternate feature transform"
   ]
  },
  {
   "cell_type": "code",
   "execution_count": 7,
   "id": "c9973c16",
   "metadata": {
    "tags": [
     "grade_required"
    ]
   },
   "outputs": [
    {
     "data": {
      "text/html": [
       "<div>\n",
       "<style scoped>\n",
       "    .dataframe tbody tr th:only-of-type {\n",
       "        vertical-align: middle;\n",
       "    }\n",
       "\n",
       "    .dataframe tbody tr th {\n",
       "        vertical-align: top;\n",
       "    }\n",
       "\n",
       "    .dataframe thead th {\n",
       "        text-align: right;\n",
       "    }\n",
       "</style>\n",
       "<table border=\"1\" class=\"dataframe\">\n",
       "  <thead>\n",
       "    <tr style=\"text-align: right;\">\n",
       "      <th></th>\n",
       "      <th>scenario</th>\n",
       "      <th>mae</th>\n",
       "      <th>slope</th>\n",
       "      <th>intercept</th>\n",
       "    </tr>\n",
       "  </thead>\n",
       "  <tbody>\n",
       "    <tr>\n",
       "      <th>0</th>\n",
       "      <td>mean_impute</td>\n",
       "      <td>1.342723</td>\n",
       "      <td>2.167377</td>\n",
       "      <td>0.366531</td>\n",
       "    </tr>\n",
       "    <tr>\n",
       "      <th>1</th>\n",
       "      <td>median_impute</td>\n",
       "      <td>1.339616</td>\n",
       "      <td>2.168463</td>\n",
       "      <td>0.371530</td>\n",
       "    </tr>\n",
       "    <tr>\n",
       "      <th>2</th>\n",
       "      <td>drop_missing</td>\n",
       "      <td>2.146195</td>\n",
       "      <td>2.167377</td>\n",
       "      <td>0.465017</td>\n",
       "    </tr>\n",
       "  </tbody>\n",
       "</table>\n",
       "</div>"
      ],
      "text/plain": [
       "        scenario       mae     slope  intercept\n",
       "0    mean_impute  1.342723  2.167377   0.366531\n",
       "1  median_impute  1.339616  2.168463   0.371530\n",
       "2   drop_missing  2.146195  2.167377   0.465017"
      ]
     },
     "execution_count": 7,
     "metadata": {},
     "output_type": "execute_result"
    }
   ],
   "source": [
    "scenarios = {\n",
    "    'mean_impute': mean_impute,\n",
    "    'median_impute': median_impute,\n",
    "    'drop_missing': lambda a: a[~np.isnan(a)] if np.isnan(a).any() else a\n",
    "}\n",
    "\n",
    "results = []\n",
    "for name, fn in scenarios.items():\n",
    "    if name == 'drop_missing' and np.isnan(X_raw).any():\n",
    "        mask = ~np.isnan(X_raw)\n",
    "        Xs, ys = X_raw[mask], y[mask]\n",
    "        m = fit_fn(Xs.reshape(-1,1), ys)\n",
    "        yh = m.predict(Xs.reshape(-1,1))\n",
    "    else:\n",
    "        Xs = fn(X_raw)\n",
    "        m = fit_fn(Xs.reshape(-1,1), y)\n",
    "        yh = m.predict(Xs.reshape(-1,1))\n",
    "    results.append({'scenario': name, 'mae': mae(y[:len(yh)], yh), 'slope': m.coef_[0], 'intercept': m.intercept_})\n",
    "sens = pd.DataFrame(results); sens"
   ]
  },
  {
   "cell_type": "code",
   "execution_count": null,
   "id": "cf914b27",
   "metadata": {
    "tags": [
     "grade_required"
    ]
   },
   "outputs": [],
   "source": [
    "plt.figure()\n",
    "xg = np.linspace(np.nanmin(X_base), np.nanmax(X_base), 150).reshape(-1,1)\n",
    "for name, fn in scenarios.items():\n",
    "    if name == 'drop_missing' and np.isnan(X_raw).any():\n",
    "        mask = ~np.isnan(X_raw)\n",
    "        Xi, yi = X_raw[mask], y[mask]\n",
    "    else:\n",
    "        Xi, yi = fn(X_raw), y\n",
    "    m = fit_fn(Xi.reshape(-1,1), yi)\n",
    "    plt.plot(xg, m.predict(xg), label=name)\n",
    "plt.scatter(X_base, y, alpha=0.15)\n",
    "plt.title('Scenario Fits (consistent axes)'); plt.legend(); plt.show()"
   ]
  },
  {
   "cell_type": "markdown",
   "id": "207a8d73",
   "metadata": {},
   "source": [
    "## Subgroup Diagnostic (Required)"
   ]
  },
  {
   "cell_type": "code",
   "execution_count": 8,
   "id": "864b7ef5",
   "metadata": {
    "tags": [
     "grade_required"
    ]
   },
   "outputs": [
    {
     "data": {
      "text/html": [
       "<div>\n",
       "<style scoped>\n",
       "    .dataframe tbody tr th:only-of-type {\n",
       "        vertical-align: middle;\n",
       "    }\n",
       "\n",
       "    .dataframe tbody tr th {\n",
       "        vertical-align: top;\n",
       "    }\n",
       "\n",
       "    .dataframe thead th {\n",
       "        text-align: right;\n",
       "    }\n",
       "</style>\n",
       "<table border=\"1\" class=\"dataframe\">\n",
       "  <thead>\n",
       "    <tr style=\"text-align: right;\">\n",
       "      <th></th>\n",
       "      <th>mean</th>\n",
       "      <th>std</th>\n",
       "      <th>median</th>\n",
       "      <th>count</th>\n",
       "    </tr>\n",
       "    <tr>\n",
       "      <th>segment</th>\n",
       "      <th></th>\n",
       "      <th></th>\n",
       "      <th></th>\n",
       "      <th></th>\n",
       "    </tr>\n",
       "  </thead>\n",
       "  <tbody>\n",
       "    <tr>\n",
       "      <th>A</th>\n",
       "      <td>-0.133381</td>\n",
       "      <td>2.266614</td>\n",
       "      <td>-0.007923</td>\n",
       "      <td>86</td>\n",
       "    </tr>\n",
       "    <tr>\n",
       "      <th>B</th>\n",
       "      <td>0.135834</td>\n",
       "      <td>2.292805</td>\n",
       "      <td>-0.130666</td>\n",
       "      <td>54</td>\n",
       "    </tr>\n",
       "    <tr>\n",
       "      <th>C</th>\n",
       "      <td>0.103393</td>\n",
       "      <td>1.633490</td>\n",
       "      <td>0.165441</td>\n",
       "      <td>40</td>\n",
       "    </tr>\n",
       "  </tbody>\n",
       "</table>\n",
       "</div>"
      ],
      "text/plain": [
       "             mean       std    median  count\n",
       "segment                                     \n",
       "A       -0.133381  2.266614 -0.007923     86\n",
       "B        0.135834  2.292805 -0.130666     54\n",
       "C        0.103393  1.633490  0.165441     40"
      ]
     },
     "execution_count": 8,
     "metadata": {},
     "output_type": "execute_result"
    }
   ],
   "source": [
    "model_base = fit_fn(X_base.reshape(-1,1), y)\n",
    "df2 = df.copy()\n",
    "df2['y_hat'] = model_base.predict(df2['x_imputed'].values.reshape(-1,1))\n",
    "df2['resid'] = df2['y_target'] - df2['y_hat']\n",
    "g = df2.groupby('segment')['resid'].agg(['mean','std','median','count'])\n",
    "g"
   ]
  },
  {
   "cell_type": "code",
   "execution_count": 9,
   "id": "73573097",
   "metadata": {},
   "outputs": [
    {
     "data": {
      "image/png": "[encoded data removed]",
      "text/plain": [
       "<Figure size 800x500 with 1 Axes>"
      ]
     },
     "metadata": {},
     "output_type": "display_data"
    }
   ],
   "source": [
    "plt.figure()\n",
    "grouped = df2.groupby('segment')['resid']\n",
    "data = [s.values for _, s in grouped]\n",
    "labels = list(grouped.groups.keys())\n",
    "\n",
    "plt.boxplot(data, tick_labels=labels)\n",
    "plt.title('Residuals by Segment')\n",
    "plt.show()\n"
   ]
  },
  {
   "cell_type": "markdown",
   "id": "90d77369",
   "metadata": {},
   "source": [
    "## Bootstrap a Metric (Required)"
   ]
  },
  {
   "cell_type": "code",
   "execution_count": 10,
   "id": "62367149",
   "metadata": {
    "tags": [
     "grade_required"
    ]
   },
   "outputs": [
    {
     "data": {
      "text/plain": [
       "{'mean': 1.3443713211261332, 'lo': 1.10271478367422, 'hi': 1.575373022656299}"
      ]
     },
     "execution_count": 10,
     "metadata": {},
     "output_type": "execute_result"
    }
   ],
   "source": [
    "bm = bootstrap_metric(y, df2['y_hat'].values, mae, n_boot=600)\n",
    "bm"
   ]
  },
  {
   "cell_type": "code",
   "execution_count": null,
   "id": "4fd4e4c9-a910-42d7-8307-aaed1a5050d4",
   "metadata": {},
   "outputs": [],
   "source": []
  },
  {
   "cell_type": "raw",
   "id": "775e3251-23cc-4a1b-8226-8a47b1f51470",
   "metadata": {},
   "source": [
    "## Stakeholder Summary (Required — ≤ 1 page)\n",
    "- Key assumptions\n",
    "- Sensitivity results & takeaways\n",
    "- Subgroup risks\n",
    "- “Prediction holds if…”, “Model is sensitive to…”"
   ]
  },
  {
   "cell_type": "markdown",
   "id": "9cadfcc7",
   "metadata": {},
   "source": [
    "*Write your summary here…*"
   ]
  }
 ],
 "metadata": {
  "kernelspec": {
   "display_name": "Python 3 (ipykernel)",
   "language": "python",
   "name": "python3"
  },
  "language_info": {
   "codemirror_mode": {
    "name": "ipython",
    "version": 3
   },
   "file_extension": ".py",
   "mimetype": "text/x-python",
   "name": "python",
   "nbconvert_exporter": "python",
   "pygments_lexer": "ipython3",
   "version": "3.12.7"
  }
 },
 "nbformat": 4,
 "nbformat_minor": 5
}
